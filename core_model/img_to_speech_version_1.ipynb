{
  "nbformat": 4,
  "nbformat_minor": 0,
  "metadata": {
    "colab": {
      "provenance": []
    },
    "kernelspec": {
      "name": "python3",
      "display_name": "Python 3"
    },
    "language_info": {
      "name": "python"
    }
  },
  "cells": [
    {
      "cell_type": "code",
      "source": [
        "# references used : \n",
        "# https://stackoverflow.com/questions/13759908/how-to-convert-text-to-speech-in-python\n",
        "# https://github.com/amrrs/HF-Image-to-text-demo/blob/main/HF_Image_to_Text_Pipeline.ipynb\n",
        "# https://pythonbasics.org/python-play-sound/"
      ],
      "metadata": {
        "id": "Aj-GnSGeMc5R"
      },
      "execution_count": 9,
      "outputs": []
    },
    {
      "cell_type": "code",
      "source": [
        "! pip install transformers -q\n",
        "! pip install gtts\n",
        "#sudo apt-get install ffmpeg libavcodec-extra\n",
        "!pip install pydub"
      ],
      "metadata": {
        "colab": {
          "base_uri": "https://localhost:8080/"
        },
        "id": "_1x6DdxcLEcm",
        "outputId": "e302ca71-ea57-4fe3-8635-e03666295e75"
      },
      "execution_count": 10,
      "outputs": [
        {
          "output_type": "stream",
          "name": "stdout",
          "text": [
            "Looking in indexes: https://pypi.org/simple, https://us-python.pkg.dev/colab-wheels/public/simple/\n",
            "Requirement already satisfied: gtts in /usr/local/lib/python3.7/dist-packages (2.2.4)\n",
            "Requirement already satisfied: requests in /usr/local/lib/python3.7/dist-packages (from gtts) (2.23.0)\n",
            "Requirement already satisfied: six in /usr/local/lib/python3.7/dist-packages (from gtts) (1.15.0)\n",
            "Requirement already satisfied: click in /usr/local/lib/python3.7/dist-packages (from gtts) (7.1.2)\n",
            "Requirement already satisfied: idna<3,>=2.5 in /usr/local/lib/python3.7/dist-packages (from requests->gtts) (2.10)\n",
            "Requirement already satisfied: urllib3!=1.25.0,!=1.25.1,<1.26,>=1.21.1 in /usr/local/lib/python3.7/dist-packages (from requests->gtts) (1.24.3)\n",
            "Requirement already satisfied: chardet<4,>=3.0.2 in /usr/local/lib/python3.7/dist-packages (from requests->gtts) (3.0.4)\n",
            "Requirement already satisfied: certifi>=2017.4.17 in /usr/local/lib/python3.7/dist-packages (from requests->gtts) (2022.6.15)\n",
            "Looking in indexes: https://pypi.org/simple, https://us-python.pkg.dev/colab-wheels/public/simple/\n",
            "Requirement already satisfied: pydub in /usr/local/lib/python3.7/dist-packages (0.25.1)\n"
          ]
        }
      ]
    },
    {
      "cell_type": "code",
      "execution_count": 11,
      "metadata": {
        "id": "Yy8NDyIm8DQE"
      },
      "outputs": [],
      "source": [
        "import warnings,logging\n",
        "from gtts import gTTS \n",
        "from transformers import pipeline\n",
        "from IPython.display import Image\n",
        "from IPython.display import Audio\n",
        "from pydub import AudioSegment\n",
        "from pydub.playback import play\n",
        "warnings.simplefilter('ignore')\n",
        "logging.disable(logging.WARNING)"
      ]
    },
    {
      "cell_type": "code",
      "source": [
        "caption = pipeline('image-to-text')"
      ],
      "metadata": {
        "id": "BYlxQcL79PnA"
      },
      "execution_count": 12,
      "outputs": []
    },
    {
      "cell_type": "code",
      "source": [
        "!wget -O img2text.jpg 'https://cdn.pixabay.com/photo/2022/08/17/15/13/street-7392734_960_720.jpg'\n",
        "Image(filename='img2text.jpg')\n",
        "\n",
        "filePath = 'img2text.jpg'\n",
        "\n",
        "def imgToSpeech(filePath, colab=True):\n",
        "  caption_ = caption(filePath)\n",
        "  inp_text = caption_[0]['generated_text']\n",
        "  my_aud = gTTS(inp_text) #converts the text into speech\n",
        "  my_aud.save('demo.mp3') \n",
        "\n",
        "  if colab == True : \n",
        "    display(Audio('demo.mp3', autoplay=True))\n",
        "  else : \n",
        "    # for playing mp3 file\n",
        "    song = AudioSegment.from_mp3(\"demo.mp3\")\n",
        "    print('playing sound using  pydub')\n",
        "    play(song)"
      ],
      "metadata": {
        "id": "hog-BmPl_dhr",
        "colab": {
          "base_uri": "https://localhost:8080/"
        },
        "outputId": "4cd507b8-98c2-4fbe-f085-07ffcee003c0"
      },
      "execution_count": 17,
      "outputs": [
        {
          "output_type": "stream",
          "name": "stdout",
          "text": [
            "--2022-09-29 21:46:00--  https://cdn.pixabay.com/photo/2022/08/17/15/13/street-7392734_960_720.jpg\n",
            "Resolving cdn.pixabay.com (cdn.pixabay.com)... 172.64.150.12, 104.18.37.244, 2606:4700:4400::ac40:960c, ...\n",
            "Connecting to cdn.pixabay.com (cdn.pixabay.com)|172.64.150.12|:443... connected.\n",
            "HTTP request sent, awaiting response... 200 OK\n",
            "Length: 126691 (124K) [image/jpeg]\n",
            "Saving to: ‘img2text.jpg’\n",
            "\n",
            "\rimg2text.jpg          0%[                    ]       0  --.-KB/s               \rimg2text.jpg        100%[===================>] 123.72K  --.-KB/s    in 0.02s   \n",
            "\n",
            "2022-09-29 21:46:00 (5.36 MB/s) - ‘img2text.jpg’ saved [126691/126691]\n",
            "\n"
          ]
        }
      ]
    },
    {
      "cell_type": "code",
      "source": [
        "imgToSpeech(filePath, colab=True)"
      ],
      "metadata": {
        "colab": {
          "base_uri": "https://localhost:8080/",
          "height": 75
        },
        "id": "uEHuYZEeMwI0",
        "outputId": "c94f771e-dacf-4d30-8ae5-5886cc4897d6"
      },
      "execution_count": 18,
      "outputs": [
        {
          "output_type": "display_data",
          "data": {
            "text/plain": [
              "<IPython.lib.display.Audio object>"
            ],
            "text/html": [
              "\n",
              "                <audio  controls=\"controls\" autoplay=\"autoplay\">\n",
              "                    <source src=\"data:audio/mpeg;base64,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\" type=\"audio/mpeg\" />\n",
              "                    Your browser does not support the audio element.\n",
              "                </audio>\n",
              "              "
            ]
          },
          "metadata": {}
        }
      ]
    },
    {
      "cell_type": "code",
      "source": [],
      "metadata": {
        "id": "vW1oSN4aN3Dj"
      },
      "execution_count": null,
      "outputs": []
    }
  ]
}